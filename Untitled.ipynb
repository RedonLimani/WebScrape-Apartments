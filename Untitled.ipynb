{
 "cells": [
  {
   "cell_type": "code",
   "execution_count": 383,
   "id": "5baf5c86-fcf4-4287-879a-0773b25448ac",
   "metadata": {},
   "outputs": [],
   "source": [
    "from selenium import webdriver\n",
    "from selenium.webdriver.common.by import By\n",
    "from bs4 import BeautifulSoup\n",
    "import time\n",
    "from datetime import datetime\n",
    "import pandas as pd"
   ]
  },
  {
   "cell_type": "code",
   "execution_count": 385,
   "id": "18a0f15d-bdf0-4814-9d9e-2b4d8fc61d70",
   "metadata": {},
   "outputs": [],
   "source": [
    "def get_num(s):\n",
    "        digits = \"\"\n",
    "        for char in s:\n",
    "            if char.isdigit():\n",
    "                digits += char\n",
    "        return int(digits) if digits else None"
   ]
  },
  {
   "cell_type": "code",
   "execution_count": 387,
   "id": "6fca4e0c-e9ab-4ddb-a6c5-3af22b79e814",
   "metadata": {},
   "outputs": [],
   "source": [
    "def clean_text(text):\n",
    "    lines = [line.strip() for line in text.split(\"\\n\") if line.strip()]\n",
    "    return \", \".join(lines)"
   ]
  },
  {
   "cell_type": "code",
   "execution_count": 389,
   "id": "02a05f21-59d6-47db-adfc-7638e9b58ccf",
   "metadata": {},
   "outputs": [],
   "source": [
    "driver = webdriver.Chrome()\n",
    "driver.get('https://www.hiddenvillagembp.com/floorplans')\n",
    "\n",
    "time.sleep(5)\n",
    "page_source = driver.page_source\n",
    "soup = BeautifulSoup(page_source, \"html.parser\")\n",
    "driver.quit()"
   ]
  },
  {
   "cell_type": "code",
   "execution_count": 391,
   "id": "22c0ab66-4be1-4789-a923-0495e17df78f",
   "metadata": {},
   "outputs": [],
   "source": [
    "floorplans = []\n",
    "beds = []\n",
    "bathrooms = []\n",
    "areas = []\n",
    "diva = soup.select('.card-header h2')\n",
    "for i in diva:\n",
    "    floorplans.append(clean_text(i.text))\n",
    "\n",
    "diva = soup.select('.nu-bed')\n",
    "for i in diva:\n",
    "    beds.append(get_num(i.parent.text))\n",
    "\n",
    "diva = soup.select('.nu-bathroom')\n",
    "for i in diva:\n",
    "    bathrooms.append(get_num(i.parent.text))\n",
    "\n",
    "diva = soup.select('.nu-area')\n",
    "for i in diva:\n",
    "    areas.append(get_num(i.parent.text))\n",
    "\n",
    "results = []\n",
    "for i in range(len(floorplans)):\n",
    "    results.append({\n",
    "        'floorplan': floorplans[i],\n",
    "        'bedrooms': beds[i],\n",
    "        'bathrooms': bathrooms[i],\n",
    "        'area': areas[i]\n",
    "    })"
   ]
  },
  {
   "cell_type": "code",
   "execution_count": null,
   "id": "66d7e647-a5d8-47b8-9ada-9e9b05c196dc",
   "metadata": {},
   "outputs": [],
   "source": []
  },
  {
   "cell_type": "code",
   "execution_count": 394,
   "id": "553f7ad6-8b64-4083-a0f2-11ad155925e9",
   "metadata": {},
   "outputs": [
    {
     "name": "stdout",
     "output_type": "stream",
     "text": [
      "['https://www.hiddenvillagembp.com/floorplans/taylor', 'https://www.hiddenvillagembp.com/floorplans/glendale', 'https://www.hiddenvillagembp.com/floorplans/elgin']\n"
     ]
    }
   ],
   "source": [
    "plansurl=[]\n",
    "availabile = soup.find_all(lambda tag: tag.name == \"a\" and \"AVAILABILITY\" in tag.text)\n",
    "for i in availabile:\n",
    "    plansurl.append(\"https://www.hiddenvillagembp.com\"+i.get(\"href\"))\n",
    "\n",
    "plansurl=list(set(plansurl))\n",
    "print(plansurl)"
   ]
  },
  {
   "cell_type": "code",
   "execution_count": 403,
   "id": "612535cd-e0ea-4e84-83c5-b25426a27911",
   "metadata": {},
   "outputs": [],
   "source": [
    "def scrape(url): \n",
    "    driver = webdriver.Chrome()\n",
    "    driver.get(url)\n",
    "    time.sleep(5)\n",
    "    page_source = driver.page_source\n",
    "    soup = BeautifulSoup(page_source, \"html.parser\")\n",
    "\n",
    "    rows=[]\n",
    "\n",
    "    diva=soup.find('div',id=\"availApts\")\n",
    "    apartment=diva.find_all('div',class_='card')\n",
    "    apartment=soup.select('div#availApts  div.card')\n",
    "    #print(apartment)\n",
    "    for i in apartment:\n",
    "        #print(i)\n",
    "        dicti={}\n",
    "        dicti['ID']=get_num(i.select('h3 > span')[0].text)\n",
    "        date=i.select('p >span')[0].text\n",
    "        try:\n",
    "            date=datetime.strptime(date).date()\n",
    "        except (ValueError, TypeError):\n",
    "            date=datetime.today().date()\n",
    "        dicti['Availaible']=date\n",
    "        dicti['Price']=get_num(i.select('p')[1].text)\n",
    "        rows.append(dicti)\n",
    "\n",
    "\n",
    "    info={'bedrooms':'nu-bed','bathrooms':'nu-bathroom','area':'nu-area'}\n",
    "    for i in rows:\n",
    "        for key, value in info.items():\n",
    "            i[key]=get_num(soup.find(class_=value).parent.text)\n",
    "\n",
    "        i['floorplan']=clean_text(soup.find('h2' ,class_=\"h3 font-weight-normal\").text)\n",
    "        \n",
    "        \n",
    "        #amneities=''\n",
    "        #li = soup.find(lambda tag: tag.name == \"h2\" and 'Features & Amenities' in tag.text).parent\n",
    "        #li=li.find_all('li')\n",
    "        #for j in li:\n",
    "            #amneities+=j.text\n",
    "        #i['Amnesities']=clean_text(amneities)\n",
    "    driver.quit()\n",
    "    return rows\n",
    "   "
   ]
  },
  {
   "cell_type": "code",
   "execution_count": 405,
   "id": "e90696f4-d5f3-42db-95cb-7a6800bf9002",
   "metadata": {},
   "outputs": [],
   "source": [
    "def update(new):\n",
    "    for i, apt in enumerate(results):\n",
    "        if apt.get('floorplan') == new.get('floorplan')and len(apt)==4 :\n",
    "            results[i] = new\n",
    "            return\n",
    "    results.append(new)\n"
   ]
  },
  {
   "cell_type": "code",
   "execution_count": 407,
   "id": "65986833-66cb-4d64-b12a-98ee9c9477cd",
   "metadata": {},
   "outputs": [
    {
     "name": "stdout",
     "output_type": "stream",
     "text": [
      "[{'floorplan': 'Bellvue', 'bedrooms': 3, 'bathrooms': 2, 'area': 1447}, {'floorplan': 'Camden', 'bedrooms': 3, 'bathrooms': 2, 'area': 1532}, {'ID': 60, 'Availaible': datetime.date(2025, 7, 10), 'Price': 2235, 'bedrooms': 4, 'bathrooms': 2, 'area': 1653, 'floorplan': 'Elgin'}, {'ID': 74, 'Availaible': datetime.date(2025, 7, 10), 'Price': 2175, 'bedrooms': 4, 'bathrooms': 2, 'area': 1729, 'floorplan': 'Glendale'}, {'floorplan': 'Huntsville', 'bedrooms': 4, 'bathrooms': 2, 'area': 1790}, {'floorplan': 'Texas Cali', 'bedrooms': 4, 'bathrooms': 2, 'area': 1836}, {'ID': 5, 'Availaible': datetime.date(2025, 7, 10), 'Price': 2735, 'bedrooms': 5, 'bathrooms': 2, 'area': 2001, 'floorplan': 'Taylor'}, {'ID': 34, 'Availaible': datetime.date(2025, 7, 10), 'Price': 2244, 'bedrooms': 4, 'bathrooms': 2, 'area': 1653, 'floorplan': 'Elgin'}]\n"
     ]
    }
   ],
   "source": [
    "\n",
    "for url in plansurl:\n",
    "    for i in scrape(url):\n",
    "        update(i)"
   ]
  },
  {
   "cell_type": "code",
   "execution_count": 409,
   "id": "8bb49304-c136-4e0b-a458-43d25ad506dc",
   "metadata": {},
   "outputs": [
    {
     "data": {
      "text/html": [
       "<div>\n",
       "<style scoped>\n",
       "    .dataframe tbody tr th:only-of-type {\n",
       "        vertical-align: middle;\n",
       "    }\n",
       "\n",
       "    .dataframe tbody tr th {\n",
       "        vertical-align: top;\n",
       "    }\n",
       "\n",
       "    .dataframe thead th {\n",
       "        text-align: right;\n",
       "    }\n",
       "</style>\n",
       "<table border=\"1\" class=\"dataframe\">\n",
       "  <thead>\n",
       "    <tr style=\"text-align: right;\">\n",
       "      <th></th>\n",
       "      <th>floorplan</th>\n",
       "      <th>bedrooms</th>\n",
       "      <th>bathrooms</th>\n",
       "      <th>area</th>\n",
       "      <th>ID</th>\n",
       "      <th>Availaible</th>\n",
       "      <th>Price</th>\n",
       "    </tr>\n",
       "  </thead>\n",
       "  <tbody>\n",
       "    <tr>\n",
       "      <th>0</th>\n",
       "      <td>Bellvue</td>\n",
       "      <td>3</td>\n",
       "      <td>2</td>\n",
       "      <td>1447</td>\n",
       "      <td>NaN</td>\n",
       "      <td>NaN</td>\n",
       "      <td>NaN</td>\n",
       "    </tr>\n",
       "    <tr>\n",
       "      <th>1</th>\n",
       "      <td>Camden</td>\n",
       "      <td>3</td>\n",
       "      <td>2</td>\n",
       "      <td>1532</td>\n",
       "      <td>NaN</td>\n",
       "      <td>NaN</td>\n",
       "      <td>NaN</td>\n",
       "    </tr>\n",
       "    <tr>\n",
       "      <th>2</th>\n",
       "      <td>Elgin</td>\n",
       "      <td>4</td>\n",
       "      <td>2</td>\n",
       "      <td>1653</td>\n",
       "      <td>60.0</td>\n",
       "      <td>2025-07-10</td>\n",
       "      <td>2235.0</td>\n",
       "    </tr>\n",
       "    <tr>\n",
       "      <th>3</th>\n",
       "      <td>Glendale</td>\n",
       "      <td>4</td>\n",
       "      <td>2</td>\n",
       "      <td>1729</td>\n",
       "      <td>74.0</td>\n",
       "      <td>2025-07-10</td>\n",
       "      <td>2175.0</td>\n",
       "    </tr>\n",
       "    <tr>\n",
       "      <th>4</th>\n",
       "      <td>Huntsville</td>\n",
       "      <td>4</td>\n",
       "      <td>2</td>\n",
       "      <td>1790</td>\n",
       "      <td>NaN</td>\n",
       "      <td>NaN</td>\n",
       "      <td>NaN</td>\n",
       "    </tr>\n",
       "    <tr>\n",
       "      <th>5</th>\n",
       "      <td>Texas Cali</td>\n",
       "      <td>4</td>\n",
       "      <td>2</td>\n",
       "      <td>1836</td>\n",
       "      <td>NaN</td>\n",
       "      <td>NaN</td>\n",
       "      <td>NaN</td>\n",
       "    </tr>\n",
       "    <tr>\n",
       "      <th>6</th>\n",
       "      <td>Taylor</td>\n",
       "      <td>5</td>\n",
       "      <td>2</td>\n",
       "      <td>2001</td>\n",
       "      <td>5.0</td>\n",
       "      <td>2025-07-10</td>\n",
       "      <td>2735.0</td>\n",
       "    </tr>\n",
       "    <tr>\n",
       "      <th>7</th>\n",
       "      <td>Elgin</td>\n",
       "      <td>4</td>\n",
       "      <td>2</td>\n",
       "      <td>1653</td>\n",
       "      <td>34.0</td>\n",
       "      <td>2025-07-10</td>\n",
       "      <td>2244.0</td>\n",
       "    </tr>\n",
       "  </tbody>\n",
       "</table>\n",
       "</div>"
      ],
      "text/plain": [
       "    floorplan  bedrooms  bathrooms  area    ID  Availaible   Price\n",
       "0     Bellvue         3          2  1447   NaN         NaN     NaN\n",
       "1      Camden         3          2  1532   NaN         NaN     NaN\n",
       "2       Elgin         4          2  1653  60.0  2025-07-10  2235.0\n",
       "3    Glendale         4          2  1729  74.0  2025-07-10  2175.0\n",
       "4  Huntsville         4          2  1790   NaN         NaN     NaN\n",
       "5  Texas Cali         4          2  1836   NaN         NaN     NaN\n",
       "6      Taylor         5          2  2001   5.0  2025-07-10  2735.0\n",
       "7       Elgin         4          2  1653  34.0  2025-07-10  2244.0"
      ]
     },
     "execution_count": 409,
     "metadata": {},
     "output_type": "execute_result"
    }
   ],
   "source": [
    "df2=pd.DataFrame(results)\n",
    "df2"
   ]
  },
  {
   "cell_type": "code",
   "execution_count": null,
   "id": "67f2a1a2-1529-4a45-b2a2-67b7b723cbf0",
   "metadata": {},
   "outputs": [],
   "source": []
  },
  {
   "cell_type": "code",
   "execution_count": null,
   "id": "8c2d17f0-dff2-420c-84b8-03dd95b1fa74",
   "metadata": {},
   "outputs": [],
   "source": []
  },
  {
   "cell_type": "code",
   "execution_count": null,
   "id": "d255b31f-e87f-4f93-b9eb-e13f5e758b95",
   "metadata": {},
   "outputs": [],
   "source": []
  }
 ],
 "metadata": {
  "kernelspec": {
   "display_name": "Python [conda env:base] *",
   "language": "python",
   "name": "conda-base-py"
  },
  "language_info": {
   "codemirror_mode": {
    "name": "ipython",
    "version": 3
   },
   "file_extension": ".py",
   "mimetype": "text/x-python",
   "name": "python",
   "nbconvert_exporter": "python",
   "pygments_lexer": "ipython3",
   "version": "3.12.7"
  }
 },
 "nbformat": 4,
 "nbformat_minor": 5
}
