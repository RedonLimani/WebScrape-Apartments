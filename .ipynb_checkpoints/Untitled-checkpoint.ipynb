{
 "cells": [
  {
   "cell_type": "code",
   "execution_count": 1,
   "id": "5baf5c86-fcf4-4287-879a-0773b25448ac",
   "metadata": {},
   "outputs": [],
   "source": [
    "from selenium import webdriver\n",
    "from selenium.webdriver.common.by import By\n",
    "from bs4 import BeautifulSoup\n",
    "import time\n",
    "import pandas as pd"
   ]
  },
  {
   "cell_type": "code",
   "execution_count": 3,
   "id": "02a05f21-59d6-47db-adfc-7638e9b58ccf",
   "metadata": {},
   "outputs": [],
   "source": [
    "driver = webdriver.Chrome()\n",
    "driver.get('https://www.hiddenvillagembp.com/floorplans')\n",
    "\n",
    "time.sleep(5)\n",
    "page_source = driver.page_source\n",
    "soup = BeautifulSoup(page_source, \"html.parser\")"
   ]
  },
  {
   "cell_type": "code",
   "execution_count": 5,
   "id": "553f7ad6-8b64-4083-a0f2-11ad155925e9",
   "metadata": {},
   "outputs": [
    {
     "name": "stdout",
     "output_type": "stream",
     "text": [
      "['https://www.hiddenvillagembp.com/floorplans/taylor', 'https://www.hiddenvillagembp.com/floorplans/glendale', 'https://www.hiddenvillagembp.com/floorplans/elgin']\n"
     ]
    }
   ],
   "source": [
    "plansurl=[]\n",
    "availabile = soup.find_all(lambda tag: tag.name == \"a\" and \"AVAILABILITY\" in tag.text)\n",
    "for i in availabile:\n",
    "    plansurl.append(\"https://www.hiddenvillagembp.com\"+i.get(\"href\"))\n",
    "\n",
    "plansurl=list(set(plansurl))\n",
    "print(plansurl)"
   ]
  },
  {
   "cell_type": "code",
   "execution_count": 7,
   "id": "18a0f15d-bdf0-4814-9d9e-2b4d8fc61d70",
   "metadata": {},
   "outputs": [],
   "source": [
    "def extract_digits(s):\n",
    "        digits = \"\"\n",
    "        for char in s:\n",
    "            if char.isdigit():\n",
    "                digits += char\n",
    "        return int(digits) if digits else None"
   ]
  },
  {
   "cell_type": "code",
   "execution_count": 9,
   "id": "6fca4e0c-e9ab-4ddb-a6c5-3af22b79e814",
   "metadata": {},
   "outputs": [],
   "source": [
    "def clean_amenities(raw_text):\n",
    "    lines = [line.strip() for line in raw_text.split(\"\\n\") if line.strip()]\n",
    "    return \", \".join(lines)"
   ]
  },
  {
   "cell_type": "code",
   "execution_count": 17,
   "id": "612535cd-e0ea-4e84-83c5-b25426a27911",
   "metadata": {},
   "outputs": [],
   "source": [
    "def scrape(url): \n",
    "    driver = webdriver.Chrome()\n",
    "    driver.get(url)\n",
    "    time.sleep(5)\n",
    "    page_source = driver.page_source\n",
    "    soup = BeautifulSoup(page_source, \"html.parser\")\n",
    "\n",
    "    rows=[]\n",
    "\n",
    "    diva=soup.find('div',id=\"availApts\")\n",
    "    a=diva.find_all('div',class_='card')\n",
    "    a=soup.select('div#availApts  div.card')\n",
    "    #print(a)\n",
    "    for i in a:\n",
    "        #print(i)\n",
    "        dicti={}\n",
    "        dicti['ID']=extract_digits(i.select('h3 > span')[0].text)\n",
    "        dicti['Availaible']=i.select('p >span')[0].text\n",
    "        dicti['Price']=extract_digits(i.select('p')[1].text)\n",
    "        rows.append(dicti)\n",
    "\n",
    "\n",
    "    info={'bedrooms':'nu-bed','bathrooms':'nu-bathroom','area':'nu-area'}\n",
    "    for i in rows:\n",
    "        for key, value in info.items():\n",
    "            i[key]=extract_digits(soup.find(class_=value).parent.text)\n",
    "    \n",
    "        Amnesties=''\n",
    "        gfg = soup.find(lambda tag: tag.name == \"h2\" and 'Features & Amenities' in tag.text).parent\n",
    "        amnesties=gfg.find_all('li')\n",
    "        for j in amnesties:\n",
    "            Amnesties+=j.text\n",
    "        i['Amnesities']=clean_amenities(Amnesties)\n",
    "    return rows\n",
    "   "
   ]
  },
  {
   "cell_type": "code",
   "execution_count": 19,
   "id": "65986833-66cb-4d64-b12a-98ee9c9477cd",
   "metadata": {},
   "outputs": [
    {
     "name": "stdout",
     "output_type": "stream",
     "text": [
      "[{'ID': 5, 'Availaible': ' 9/5/2025', 'Price': 2735, 'bedrooms': 5, 'bathrooms': 2, 'area': 2001, 'Amnesities': 'Electronic Thermostat, Refrigerator, Dishwasher, Disposal, Hardwood-Style Flooring & Carpet, Brand New Spacious Floor Plans, Fully Equipped Gourmet Kitchens w/ Granite Counter, Private Two-Car Attached Garage w/ Opener, Patio/Balcony, Efficient Appliances, Ceiling Fan, Front & Back Yard w/ Sprinklers & Privacy Fence*, Kitchen Islands, Pantry, Washer/Dryer, Double Stainless Steel Kitchen Sinks, Linen Closets, Microwave, Private Fenced in yards*, Mini Blinds, Stand-Up Shower, Garden Tubs, Large Closets, Air Conditioner, Hardwood Floors, Stainless Steel Appliances*'}, {'ID': 74, 'Availaible': ' 8/5/2025', 'Price': 2175, 'bedrooms': 4, 'bathrooms': 2, 'area': 1729, 'Amnesities': 'Electronic Thermostat, Refrigerator, Dishwasher, Disposal, Hardwood-Style Flooring & Carpet, Brand New Spacious Floor Plans, Fully Equipped Gourmet Kitchens w/ Granite Counter, Private Two-Car Attached Garage w/ Opener, Patio/Balcony, Efficient Appliances, Ceiling Fan, Front & Back Yard w/ Sprinklers & Privacy Fence*, Kitchen Islands, Pantry, Washer/Dryer, Double Stainless Steel Kitchen Sinks, Linen Closets, Microwave, Private Fenced in yards*, Mini Blinds, Stand-Up Shower, Garden Tubs, Large Closets, Air Conditioner, Hardwood Floors, Stainless Steel Appliances*'}, {'ID': 60, 'Availaible': ' 8/10/2025', 'Price': 2235, 'bedrooms': 4, 'bathrooms': 2, 'area': 1653, 'Amnesities': 'Electronic Thermostat, Refrigerator, Dishwasher, Disposal, Hardwood-Style Flooring & Carpet, Brand New Spacious Floor Plans, Fully Equipped Gourmet Kitchens w/ Granite Counter, Private Two-Car Attached Garage w/ Opener, Patio/Balcony, Efficient Appliances, Ceiling Fan, Front & Back Yard w/ Sprinklers & Privacy Fence*, Kitchen Islands, Pantry, Washer/Dryer, Double Stainless Steel Kitchen Sinks, Linen Closets, Microwave, Private Fenced in yards*, Mini Blinds, Stand-Up Shower, Garden Tubs, Large Closets, Air Conditioner, Hardwood Floors, Stainless Steel Appliances*'}, {'ID': 34, 'Availaible': ' 9/5/2025', 'Price': 2244, 'bedrooms': 4, 'bathrooms': 2, 'area': 1653, 'Amnesities': 'Electronic Thermostat, Refrigerator, Dishwasher, Disposal, Hardwood-Style Flooring & Carpet, Brand New Spacious Floor Plans, Fully Equipped Gourmet Kitchens w/ Granite Counter, Private Two-Car Attached Garage w/ Opener, Patio/Balcony, Efficient Appliances, Ceiling Fan, Front & Back Yard w/ Sprinklers & Privacy Fence*, Kitchen Islands, Pantry, Washer/Dryer, Double Stainless Steel Kitchen Sinks, Linen Closets, Microwave, Private Fenced in yards*, Mini Blinds, Stand-Up Shower, Garden Tubs, Large Closets, Air Conditioner, Hardwood Floors, Stainless Steel Appliances*'}]\n"
     ]
    }
   ],
   "source": [
    "master_list=[]\n",
    "\n",
    "for url in plansurl:\n",
    "    for i in scrape(url):\n",
    "        master_list.append(i)\n",
    "\n",
    "print(master_list)"
   ]
  },
  {
   "cell_type": "code",
   "execution_count": 21,
   "id": "39a1fb6c-f031-4d59-a2d9-f788fdd3d36e",
   "metadata": {},
   "outputs": [
    {
     "data": {
      "text/html": [
       "<div>\n",
       "<style scoped>\n",
       "    .dataframe tbody tr th:only-of-type {\n",
       "        vertical-align: middle;\n",
       "    }\n",
       "\n",
       "    .dataframe tbody tr th {\n",
       "        vertical-align: top;\n",
       "    }\n",
       "\n",
       "    .dataframe thead th {\n",
       "        text-align: right;\n",
       "    }\n",
       "</style>\n",
       "<table border=\"1\" class=\"dataframe\">\n",
       "  <thead>\n",
       "    <tr style=\"text-align: right;\">\n",
       "      <th></th>\n",
       "      <th>ID</th>\n",
       "      <th>Availaible</th>\n",
       "      <th>Price</th>\n",
       "      <th>bedrooms</th>\n",
       "      <th>bathrooms</th>\n",
       "      <th>area</th>\n",
       "      <th>Amnesities</th>\n",
       "    </tr>\n",
       "  </thead>\n",
       "  <tbody>\n",
       "    <tr>\n",
       "      <th>0</th>\n",
       "      <td>5</td>\n",
       "      <td>9/5/2025</td>\n",
       "      <td>2735</td>\n",
       "      <td>5</td>\n",
       "      <td>2</td>\n",
       "      <td>2001</td>\n",
       "      <td>Electronic Thermostat, Refrigerator, Dishwashe...</td>\n",
       "    </tr>\n",
       "    <tr>\n",
       "      <th>1</th>\n",
       "      <td>74</td>\n",
       "      <td>8/5/2025</td>\n",
       "      <td>2175</td>\n",
       "      <td>4</td>\n",
       "      <td>2</td>\n",
       "      <td>1729</td>\n",
       "      <td>Electronic Thermostat, Refrigerator, Dishwashe...</td>\n",
       "    </tr>\n",
       "    <tr>\n",
       "      <th>2</th>\n",
       "      <td>60</td>\n",
       "      <td>8/10/2025</td>\n",
       "      <td>2235</td>\n",
       "      <td>4</td>\n",
       "      <td>2</td>\n",
       "      <td>1653</td>\n",
       "      <td>Electronic Thermostat, Refrigerator, Dishwashe...</td>\n",
       "    </tr>\n",
       "    <tr>\n",
       "      <th>3</th>\n",
       "      <td>34</td>\n",
       "      <td>9/5/2025</td>\n",
       "      <td>2244</td>\n",
       "      <td>4</td>\n",
       "      <td>2</td>\n",
       "      <td>1653</td>\n",
       "      <td>Electronic Thermostat, Refrigerator, Dishwashe...</td>\n",
       "    </tr>\n",
       "  </tbody>\n",
       "</table>\n",
       "</div>"
      ],
      "text/plain": [
       "   ID  Availaible  Price  bedrooms  bathrooms  area  \\\n",
       "0   5    9/5/2025   2735         5          2  2001   \n",
       "1  74    8/5/2025   2175         4          2  1729   \n",
       "2  60   8/10/2025   2235         4          2  1653   \n",
       "3  34    9/5/2025   2244         4          2  1653   \n",
       "\n",
       "                                          Amnesities  \n",
       "0  Electronic Thermostat, Refrigerator, Dishwashe...  \n",
       "1  Electronic Thermostat, Refrigerator, Dishwashe...  \n",
       "2  Electronic Thermostat, Refrigerator, Dishwashe...  \n",
       "3  Electronic Thermostat, Refrigerator, Dishwashe...  "
      ]
     },
     "execution_count": 21,
     "metadata": {},
     "output_type": "execute_result"
    }
   ],
   "source": [
    "df=pd.DataFrame(master_list)\n",
    "df"
   ]
  },
  {
   "cell_type": "code",
   "execution_count": null,
   "id": "13d78575-562b-4f46-9439-a33d3dc25917",
   "metadata": {},
   "outputs": [],
   "source": [
    "gfg"
   ]
  }
 ],
 "metadata": {
  "kernelspec": {
   "display_name": "Python [conda env:base] *",
   "language": "python",
   "name": "conda-base-py"
  },
  "language_info": {
   "codemirror_mode": {
    "name": "ipython",
    "version": 3
   },
   "file_extension": ".py",
   "mimetype": "text/x-python",
   "name": "python",
   "nbconvert_exporter": "python",
   "pygments_lexer": "ipython3",
   "version": "3.12.7"
  }
 },
 "nbformat": 4,
 "nbformat_minor": 5
}
